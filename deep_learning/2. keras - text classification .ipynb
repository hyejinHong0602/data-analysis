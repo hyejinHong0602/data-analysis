{
 "cells": [
  {
   "cell_type": "code",
   "execution_count": 9,
   "id": "palestinian-stopping",
   "metadata": {},
   "outputs": [
    {
     "name": "stdout",
     "output_type": "stream",
     "text": [
      "2.4.1\n",
      "훈련 샘플: 25000, 레이블: 25000\n",
      "[1, 14, 22, 16, 43, 530, 973, 1622, 1385, 65, 458, 4468, 66, 3941, 4, 173, 36, 256, 5, 25, 100, 43, 838, 112, 50, 670, 2, 9, 35, 480, 284, 5, 150, 4, 172, 112, 167, 2, 336, 385, 39, 4, 172, 4536, 1111, 17, 546, 38, 13, 447, 4, 192, 50, 16, 6, 147, 2025, 19, 14, 22, 4, 1920, 4613, 469, 4, 22, 71, 87, 12, 16, 43, 530, 38, 76, 15, 13, 1247, 4, 22, 17, 515, 17, 12, 16, 626, 18, 2, 5, 62, 386, 12, 8, 316, 8, 106, 5, 4, 2223, 5244, 16, 480, 66, 3785, 33, 4, 130, 12, 16, 38, 619, 5, 25, 124, 51, 36, 135, 48, 25, 1415, 33, 6, 22, 12, 215, 28, 77, 52, 5, 14, 407, 16, 82, 2, 8, 4, 107, 117, 5952, 15, 256, 4, 2, 7, 3766, 5, 723, 36, 71, 43, 530, 476, 26, 400, 317, 46, 7, 4, 2, 1029, 13, 104, 88, 4, 381, 15, 297, 98, 32, 2071, 56, 26, 141, 6, 194, 7486, 18, 4, 226, 22, 21, 134, 476, 26, 480, 5, 144, 30, 5535, 18, 51, 36, 28, 224, 92, 25, 104, 4, 226, 65, 16, 38, 1334, 88, 12, 16, 283, 5, 16, 4472, 113, 103, 32, 15, 16, 5345, 19, 178, 32]\n"
     ]
    },
    {
     "data": {
      "text/plain": [
       "(218, 189)"
      ]
     },
     "execution_count": 9,
     "metadata": {},
     "output_type": "execute_result"
    }
   ],
   "source": [
    "import tensorflow as tf\n",
    "from tensorflow import keras\n",
    "\n",
    "import numpy as np\n",
    "\n",
    "##버전 체크\n",
    "print(tf.__version__)\n",
    "\n",
    "##IMDB 데이터셋 다운로드\n",
    "imdb = keras.datasets.imdb\n",
    "\n",
    "(train_data, train_labels), (test_data, test_labels) = imdb.load_data(num_words=10000)\n",
    "\n",
    "## 데이터 탐색 \n",
    "print(\"훈련 샘플: {}, 레이블: {}\".format(len(train_data), len(train_labels)))\n",
    "\n",
    "# 리뷰 텍스트는 어휘 사전의 특정 단어를 나타내는 정수로 변환되어있음. 첫 번째 리뷰 확인\n",
    "print(train_data[0])\n",
    "\n",
    "# 첫 번째 리뷰와 두번째 리뷰에서 단어의 개수 출력\n",
    "len(train_data[0]), len(train_data[1])\n"
   ]
  },
  {
   "cell_type": "code",
   "execution_count": 11,
   "id": "democratic-function",
   "metadata": {},
   "outputs": [
    {
     "data": {
      "text/plain": [
       "\"<START> this film was just brilliant casting location scenery story direction everyone's really suited the part they played and you could just imagine being there robert <UNK> is an amazing actor and now the same being director <UNK> father came from the same scottish island as myself so i loved the fact there was a real connection with this film the witty remarks throughout the film were great it was just brilliant so much that i bought the film as soon as it was released for <UNK> and would recommend it to everyone to watch and the fly fishing was amazing really cried at the end it was so sad and you know what they say if you cry at a film it must have been good and this definitely was also <UNK> to the two little boy's that played the <UNK> of norman and paul they were just brilliant children are often left out of the <UNK> list i think because the stars that play them all grown up are such a big profile for the whole film but these children are amazing and should be praised for what they have done don't you think the whole story was so lovely because it was true and was someone's life after all that was shared with us all\""
      ]
     },
     "execution_count": 11,
     "metadata": {},
     "output_type": "execute_result"
    }
   ],
   "source": [
    "## 정수를 단어로 다시 변환하기 - 정수와 문자열을 매핑한 딕셔너리 객체에 질의하는 헬퍼 함수를 만듦.\n",
    "# 단어와 정수 인덱스를 매핑한 딕셔너리\n",
    "word_index = imdb.get_word_index()\n",
    "\n",
    "# 처음 몇 개 인덱스는 사전에 정의되어 있습니다\n",
    "word_index = {k:(v+3) for k,v in word_index.items()}\n",
    "word_index[\"<PAD>\"] = 0\n",
    "word_index[\"<START>\"] = 1\n",
    "word_index[\"<UNK>\"] = 2  # unknown\n",
    "word_index[\"<UNUSED>\"] = 3\n",
    "\n",
    "reverse_word_index = dict([(value, key) for (key, value) in word_index.items()])\n",
    "\n",
    "def decode_review(text):\n",
    "    return ' '.join([reverse_word_index.get(i, '?') for i in text])\n",
    "\n",
    "## 이제 decode_review 함수를 사용해 첫번째 리뷰 텍스트 출력\n",
    "decode_review(train_data[0])"
   ]
  },
  {
   "cell_type": "code",
   "execution_count": 14,
   "id": "cooked-badge",
   "metadata": {},
   "outputs": [
    {
     "name": "stdout",
     "output_type": "stream",
     "text": [
      "[   1   14   22   16   43  530  973 1622 1385   65  458 4468   66 3941\n",
      "    4  173   36  256    5   25  100   43  838  112   50  670    2    9\n",
      "   35  480  284    5  150    4  172  112  167    2  336  385   39    4\n",
      "  172 4536 1111   17  546   38   13  447    4  192   50   16    6  147\n",
      " 2025   19   14   22    4 1920 4613  469    4   22   71   87   12   16\n",
      "   43  530   38   76   15   13 1247    4   22   17  515   17   12   16\n",
      "  626   18    2    5   62  386   12    8  316    8  106    5    4 2223\n",
      " 5244   16  480   66 3785   33    4  130   12   16   38  619    5   25\n",
      "  124   51   36  135   48   25 1415   33    6   22   12  215   28   77\n",
      "   52    5   14  407   16   82    2    8    4  107  117 5952   15  256\n",
      "    4    2    7 3766    5  723   36   71   43  530  476   26  400  317\n",
      "   46    7    4    2 1029   13  104   88    4  381   15  297   98   32\n",
      " 2071   56   26  141    6  194 7486   18    4  226   22   21  134  476\n",
      "   26  480    5  144   30 5535   18   51   36   28  224   92   25  104\n",
      "    4  226   65   16   38 1334   88   12   16  283    5   16 4472  113\n",
      "  103   32   15   16 5345   19  178   32    0    0    0    0    0    0\n",
      "    0    0    0    0    0    0    0    0    0    0    0    0    0    0\n",
      "    0    0    0    0    0    0    0    0    0    0    0    0    0    0\n",
      "    0    0    0    0]\n"
     ]
    }
   ],
   "source": [
    "##데이터 준비 - 리뷰 (정수배열)는 신경망에 주입하기 전에 텐서로 변환되어야 함.\n",
    "# 튜토리얼 사용 방식 - 정수 배열의 길이가 모두 같도록 padding을 추가해 max_length*num_reviews 크기의 정수 텐서를 만듦. 이런 형태의 텐서를 다룰 수 있는 임베딩 층을 신경망의 첫 번째 층으로 사용할 수 있음.\n",
    "\n",
    "# 영화 리뷰의 길이가 같아야 하므로 pad_sequences 함수 이용해 길이를 맞춤 \n",
    "train_data = keras.preprocessing.sequence.pad_sequences(train_data,\n",
    "                                                        value=word_index[\"<PAD>\"],\n",
    "                                                        padding='post',\n",
    "                                                        maxlen=256)\n",
    "\n",
    "test_data = keras.preprocessing.sequence.pad_sequences(test_data,\n",
    "                                                       value=word_index[\"<PAD>\"],\n",
    "                                                       padding='post',\n",
    "                                                       maxlen=256)\n",
    "# 샘플 길이 확인\n",
    "len(train_data[0]), len(train_data[1])\n",
    "# 패딩된 첫 번째 리뷰 내용을 확인\n",
    "print(train_data[0])"
   ]
  },
  {
   "cell_type": "code",
   "execution_count": 15,
   "id": "passive-lotus",
   "metadata": {},
   "outputs": [
    {
     "name": "stdout",
     "output_type": "stream",
     "text": [
      "Model: \"sequential\"\n",
      "_________________________________________________________________\n",
      "Layer (type)                 Output Shape              Param #   \n",
      "=================================================================\n",
      "embedding (Embedding)        (None, None, 16)          160000    \n",
      "_________________________________________________________________\n",
      "global_average_pooling1d (Gl (None, 16)                0         \n",
      "_________________________________________________________________\n",
      "dense (Dense)                (None, 16)                272       \n",
      "_________________________________________________________________\n",
      "dense_1 (Dense)              (None, 1)                 17        \n",
      "=================================================================\n",
      "Total params: 160,289\n",
      "Trainable params: 160,289\n",
      "Non-trainable params: 0\n",
      "_________________________________________________________________\n"
     ]
    }
   ],
   "source": [
    "## 모델 구성\n",
    "# 신경망은 층(layer)을 쌓아서 만듦. 이 구조에서는 두가지를 결정해야함. \n",
    "# 1. 모델에서 얼마나 많은 층을 사용할 것인가?  2. 각 층에서 얼마나 많은 은닉 유닛(hidden unit)을 사용할 것인가?\n",
    "# 이 예제의 입력 데이터는 단어 인덱스의 배열. 예측할 레이블은 0 또는 1\n",
    "\n",
    "# 입력 크기는 영화 리뷰 데이터셋에 적용된 어휘 사전의 크기입니다(10,000개의 단어)\n",
    "vocab_size = 10000\n",
    "\n",
    "model = keras.Sequential()\n",
    "model.add(keras.layers.Embedding(vocab_size, 16, input_shape=(None,)))\n",
    "model.add(keras.layers.GlobalAveragePooling1D())\n",
    "model.add(keras.layers.Dense(16, activation='relu'))\n",
    "model.add(keras.layers.Dense(1, activation='sigmoid'))\n",
    "\n",
    "model.summary()\n",
    "\n",
    "# 층을 순서대로 쌓아 분류기(classifier)를 만듦.\n",
    "# 1. 첫 번째 층은 Embedding층 : 정수로 인코딩된 단어를 입력 받고 각 단어 인덱스에 해당하는 임베딩 벡터를 찾는다. 이 벡터는 모델이 훈련되면서 학습된고 출력 배열에 새로운 차원으로 추가된다. 최종 차원은 (batch, sequence, embedding)이 된다.\n",
    "# 2. 그 다음 층은 GlobalAveragePooling1D 층: sequence 차원에 대해 평균을 계산하여 각 샘플에 대해 고정된 길이의 출력 벡터를 반환. 길이가 다른 입력을 다루는 가장 간단한 방법이다.\n",
    "# 3. fully-connected 층 : 이 고정 길이의 출력 벡터는 16개의 은닉 유닛을 가진 완전 연결(fully-connected) 층(Dense)을 거친다. \n",
    "# 4. 마지막 층은 하나의 출력 노드를 가진 완전 연결 층 : sigmoid 호라성화 함수를 사용하여 0과 1 사이의 실수를 출력. 이 값은 확률 또는 신뢰도를 나타낸다."
   ]
  },
  {
   "cell_type": "code",
   "execution_count": 16,
   "id": "naked-desktop",
   "metadata": {},
   "outputs": [],
   "source": [
    "## 은닉 유닛\n",
    "#위 모델에는 입력과 출력 사이에 두 개의 중간 또는 \"은닉\" 층이 있다. 출력(유닛 또는 노드, 뉴런)의 개수는 층이 가진 표현 공간(representational space)의 차원이 된다. 다른 말로 하면, 내부 표현을 학습할 때 허용되는 네트워크 자유도의 양이다.\n",
    "# 모델에 많은 은닉 유닛(고차원의 표현 공간)과 층이 있다면 네트워크는 더 복잡한 표현을 학습할 수 있다. 하지만 네트워크의 계산 비용이 많이 들고 원치않는 패턴을 학습할 수도 있다. \n",
    "# 이런 표현은 훈련 데이터의 성능을 향상시키지만 테스트 데이터에서는 그렇지 못한다. 이를 과대적합(overfitting)이라고 한다.\n",
    "\n",
    "##손실 함수와 옵티마이저\n",
    "# 모델이 훈련하려면 손실 함수(loss function)과 옵티마이저(optimizer)가 필요.\n",
    "# 이 예제는 이진 분류 문제이고 모델이 확률을 출력하므로(출력층의 유닛이 하나이고 sigmoid 활성화 함수를 사용) binary_crossentropy 손실 함수를 사용.\n",
    "\n",
    "# 모델이 사용할 옵티마이저와 손실 함수 설정\n",
    "model.compile(optimizer='adam',\n",
    "              loss='binary_crossentropy',\n",
    "              metrics=['accuracy'])"
   ]
  },
  {
   "cell_type": "code",
   "execution_count": 18,
   "id": "alternate-vessel",
   "metadata": {},
   "outputs": [
    {
     "name": "stdout",
     "output_type": "stream",
     "text": [
      "Epoch 1/40\n",
      "30/30 [==============================] - 6s 151ms/step - loss: 0.6925 - accuracy: 0.5337 - val_loss: 0.6895 - val_accuracy: 0.5873\n",
      "Epoch 2/40\n",
      "30/30 [==============================] - 1s 37ms/step - loss: 0.6870 - accuracy: 0.6312 - val_loss: 0.6811 - val_accuracy: 0.7008\n",
      "Epoch 3/40\n",
      "30/30 [==============================] - 1s 42ms/step - loss: 0.6764 - accuracy: 0.7260 - val_loss: 0.6661 - val_accuracy: 0.7433\n",
      "Epoch 4/40\n",
      "30/30 [==============================] - 2s 58ms/step - loss: 0.6575 - accuracy: 0.7693 - val_loss: 0.6417 - val_accuracy: 0.7658\n",
      "Epoch 5/40\n",
      "30/30 [==============================] - 2s 54ms/step - loss: 0.6290 - accuracy: 0.7822 - val_loss: 0.6086 - val_accuracy: 0.7841\n",
      "Epoch 6/40\n",
      "30/30 [==============================] - 1s 44ms/step - loss: 0.5885 - accuracy: 0.8053 - val_loss: 0.5689 - val_accuracy: 0.8025\n",
      "Epoch 7/40\n",
      "30/30 [==============================] - 1s 47ms/step - loss: 0.5418 - accuracy: 0.8294 - val_loss: 0.5259 - val_accuracy: 0.8189\n",
      "Epoch 8/40\n",
      "30/30 [==============================] - 2s 57ms/step - loss: 0.4968 - accuracy: 0.8412 - val_loss: 0.4837 - val_accuracy: 0.8319\n",
      "Epoch 9/40\n",
      "30/30 [==============================] - 2s 60ms/step - loss: 0.4520 - accuracy: 0.8571 - val_loss: 0.4465 - val_accuracy: 0.8406\n",
      "Epoch 10/40\n",
      "30/30 [==============================] - 2s 56ms/step - loss: 0.4088 - accuracy: 0.8703 - val_loss: 0.4139 - val_accuracy: 0.8501 0s - loss: 0.4114 - accura\n",
      "Epoch 11/40\n",
      "30/30 [==============================] - 2s 54ms/step - loss: 0.3786 - accuracy: 0.8730 - val_loss: 0.3886 - val_accuracy: 0.8544\n",
      "Epoch 12/40\n",
      "30/30 [==============================] - 2s 52ms/step - loss: 0.3429 - accuracy: 0.8876 - val_loss: 0.3677 - val_accuracy: 0.8610\n",
      "Epoch 13/40\n",
      "30/30 [==============================] - 2s 64ms/step - loss: 0.3196 - accuracy: 0.8955 - val_loss: 0.3511 - val_accuracy: 0.8674\n",
      "Epoch 14/40\n",
      "30/30 [==============================] - 1s 46ms/step - loss: 0.3026 - accuracy: 0.8969 - val_loss: 0.3381 - val_accuracy: 0.8701\n",
      "Epoch 15/40\n",
      "30/30 [==============================] - 2s 69ms/step - loss: 0.2775 - accuracy: 0.9076 - val_loss: 0.3273 - val_accuracy: 0.8754\n",
      "Epoch 16/40\n",
      "30/30 [==============================] - 1s 47ms/step - loss: 0.2585 - accuracy: 0.9131 - val_loss: 0.3201 - val_accuracy: 0.8726\n",
      "Epoch 17/40\n",
      "30/30 [==============================] - 2s 59ms/step - loss: 0.2505 - accuracy: 0.9143 - val_loss: 0.3111 - val_accuracy: 0.8784\n",
      "Epoch 18/40\n",
      "30/30 [==============================] - 2s 57ms/step - loss: 0.2388 - accuracy: 0.9159 - val_loss: 0.3049 - val_accuracy: 0.8803\n",
      "Epoch 19/40\n",
      "30/30 [==============================] - 1s 47ms/step - loss: 0.2314 - accuracy: 0.9222 - val_loss: 0.3005 - val_accuracy: 0.8818\n",
      "Epoch 20/40\n",
      "30/30 [==============================] - 1s 44ms/step - loss: 0.2155 - accuracy: 0.9242 - val_loss: 0.2961 - val_accuracy: 0.8815\n",
      "Epoch 21/40\n",
      "30/30 [==============================] - 1s 45ms/step - loss: 0.2025 - accuracy: 0.9308 - val_loss: 0.2935 - val_accuracy: 0.8830\n",
      "Epoch 22/40\n",
      "30/30 [==============================] - 2s 54ms/step - loss: 0.1958 - accuracy: 0.9342 - val_loss: 0.2932 - val_accuracy: 0.8814\n",
      "Epoch 23/40\n",
      "30/30 [==============================] - 1s 43ms/step - loss: 0.1856 - accuracy: 0.9386 - val_loss: 0.2885 - val_accuracy: 0.8836\n",
      "Epoch 24/40\n",
      "30/30 [==============================] - 2s 55ms/step - loss: 0.1827 - accuracy: 0.9407 - val_loss: 0.2878 - val_accuracy: 0.8847\n",
      "Epoch 25/40\n",
      "30/30 [==============================] - 1s 43ms/step - loss: 0.1775 - accuracy: 0.9435 - val_loss: 0.2864 - val_accuracy: 0.8845\n",
      "Epoch 26/40\n",
      "30/30 [==============================] - 2s 51ms/step - loss: 0.1617 - accuracy: 0.9487 - val_loss: 0.2856 - val_accuracy: 0.8842\n",
      "Epoch 27/40\n",
      "30/30 [==============================] - 1s 51ms/step - loss: 0.1542 - accuracy: 0.9509 - val_loss: 0.2857 - val_accuracy: 0.8844\n",
      "Epoch 28/40\n",
      "30/30 [==============================] - 1s 44ms/step - loss: 0.1527 - accuracy: 0.9543 - val_loss: 0.2870 - val_accuracy: 0.8850\n",
      "Epoch 29/40\n",
      "30/30 [==============================] - 2s 61ms/step - loss: 0.1462 - accuracy: 0.9554 - val_loss: 0.2865 - val_accuracy: 0.8867\n",
      "Epoch 30/40\n",
      "30/30 [==============================] - 1s 41ms/step - loss: 0.1376 - accuracy: 0.9586 - val_loss: 0.2880 - val_accuracy: 0.8853\n",
      "Epoch 31/40\n",
      "30/30 [==============================] - 1s 48ms/step - loss: 0.1312 - accuracy: 0.9633 - val_loss: 0.2890 - val_accuracy: 0.8862\n",
      "Epoch 32/40\n",
      "30/30 [==============================] - 1s 47ms/step - loss: 0.1279 - accuracy: 0.9643 - val_loss: 0.2916 - val_accuracy: 0.8852\n",
      "Epoch 33/40\n",
      "30/30 [==============================] - 1s 47ms/step - loss: 0.1225 - accuracy: 0.9641 - val_loss: 0.2928 - val_accuracy: 0.8852\n",
      "Epoch 34/40\n",
      "30/30 [==============================] - 1s 50ms/step - loss: 0.1201 - accuracy: 0.9655 - val_loss: 0.2948 - val_accuracy: 0.8843\n",
      "Epoch 35/40\n",
      "30/30 [==============================] - 1s 40ms/step - loss: 0.1164 - accuracy: 0.9662 - val_loss: 0.2965 - val_accuracy: 0.8856\n",
      "Epoch 36/40\n",
      "30/30 [==============================] - 2s 66ms/step - loss: 0.1091 - accuracy: 0.9707 - val_loss: 0.2995 - val_accuracy: 0.8850\n",
      "Epoch 37/40\n",
      "30/30 [==============================] - 1s 47ms/step - loss: 0.1056 - accuracy: 0.9709 - val_loss: 0.3013 - val_accuracy: 0.8834\n",
      "Epoch 38/40\n",
      "30/30 [==============================] - 1s 40ms/step - loss: 0.1017 - accuracy: 0.9720 - val_loss: 0.3038 - val_accuracy: 0.8838\n",
      "Epoch 39/40\n",
      "30/30 [==============================] - 1s 45ms/step - loss: 0.0959 - accuracy: 0.9750 - val_loss: 0.3080 - val_accuracy: 0.8825\n",
      "Epoch 40/40\n",
      "30/30 [==============================] - 1s 46ms/step - loss: 0.0929 - accuracy: 0.9759 - val_loss: 0.3100 - val_accuracy: 0.8828\n"
     ]
    }
   ],
   "source": [
    "## 검증 세트 만들기\n",
    "# 모델을 훈련할 때 모델이 만난 적 없는 데이터에서 정확도를 확인하는 것이 좋다. 원본 훈련 데이터에서 10,000개의 샘플을 떼어내어 검증 세트(validation set)를 만든다.\n",
    "# 테스트 세트를 사용하지 않는 이유? 훈련 데이터만을 사용하여 모델을 개발하고 튜닝하는 것이 목표. 그 다음 테스트 세트를 사용해서 딱 한 번만 정확도를 평가함.\n",
    "\n",
    "x_val = train_data[:10000]\n",
    "partial_x_train = train_data[10000:]\n",
    "\n",
    "y_val = train_labels[:10000]\n",
    "partial_y_train = train_labels[10000:]\n",
    "\n",
    "## 모델 훈련\n",
    "# 이 모델을 512개의 샘플로 이루어진 미니배치(mini-batch)에서 40번의 에포크(epoch) 동안 훈련\n",
    "# x_train과 y_train 텐서에 있는 모든 샘플에 대해 40번 반복한다는 뜻이다. 훈련하는 동안 10,000개의 검증 세트에서 모델의 손실과 정확도를 모니터링\n",
    "\n",
    "history = model.fit(partial_x_train,\n",
    "                    partial_y_train,\n",
    "                    epochs=40,\n",
    "                    batch_size=512,\n",
    "                    validation_data=(x_val, y_val),\n",
    "                    verbose=1)"
   ]
  },
  {
   "cell_type": "code",
   "execution_count": 21,
   "id": "lasting-excitement",
   "metadata": {},
   "outputs": [
    {
     "name": "stdout",
     "output_type": "stream",
     "text": [
      "782/782 - 1s - loss: 0.3313 - accuracy: 0.8716\n",
      "[0.331306129693985, 0.8716400265693665]\n"
     ]
    }
   ],
   "source": [
    "## 모델 평가\n",
    "# 모델의 성능을 파악해보자. 두 개의 값이 반환되는데 손실과 정확도이다. 손실은 오차를 타나내느 숫자이므로 낮을수록 좋다.\n",
    "\n",
    "results = model.evaluate(test_data, test_labels, verbose=2)\n",
    "print(results)\n",
    "\n",
    "# 이 예제는 매우 단순한 방식을 사용하므로 87% 정도의 정확도를 달성함. 고급방법을 사용한 모델은 95%에 가까운 정확도를 얻는다."
   ]
  },
  {
   "cell_type": "code",
   "execution_count": 23,
   "id": "antique-quest",
   "metadata": {},
   "outputs": [
    {
     "data": {
      "image/png": "[encoded data removed]",
      "text/plain": [
       "<Figure size 432x288 with 1 Axes>"
      ]
     },
     "metadata": {
      "needs_background": "light"
     },
     "output_type": "display_data"
    }
   ],
   "source": [
    "## 정확도와 손실 그래프 그리기\n",
    "# model.fit()은 History 객체를 반화함. 여깅는 훈련하는 동안 일어난 모든 정보가 담긴 딕셔너리가 들어있다.\n",
    "\n",
    "history_dict=history.history\n",
    "history_dict.keys()\n",
    "\n",
    "# 훈련과 검증단계에서 모니터링하는 네 가지 제표가 있다. 훈련 손실과 검증 손실을 그래프로 ㄱ려보고, 훈련 정확도와 검증 정확도도 그래프로 그려서 비교해보자.\n",
    "import matplotlib.pyplot as plt\n",
    "\n",
    "acc = history_dict['accuracy']\n",
    "val_acc = history_dict['val_accuracy']\n",
    "loss = history_dict['loss']\n",
    "val_loss = history_dict['val_loss']\n",
    "\n",
    "epochs = range(1, len(acc) + 1)\n",
    "\n",
    "# \"bo\"는 \"파란색 점\"입니다\n",
    "plt.plot(epochs, loss, 'bo', label='Training loss')\n",
    "# b는 \"파란 실선\"입니다\n",
    "plt.plot(epochs, val_loss, 'b', label='Validation loss')\n",
    "plt.title('Training and validation loss')\n",
    "plt.xlabel('Epochs')\n",
    "plt.ylabel('Loss')\n",
    "plt.legend()\n",
    "\n",
    "plt.show()"
   ]
  },
  {
   "cell_type": "code",
   "execution_count": 24,
   "id": "early-mexican",
   "metadata": {},
   "outputs": [
    {
     "data": {
      "image/png": "[encoded data removed]",
      "text/plain": [
       "<Figure size 432x288 with 1 Axes>"
      ]
     },
     "metadata": {
      "needs_background": "light"
     },
     "output_type": "display_data"
    }
   ],
   "source": [
    "plt.clf()   # 그림을 초기화합니다\n",
    "\n",
    "plt.plot(epochs, acc, 'bo', label='Training acc')\n",
    "plt.plot(epochs, val_acc, 'b', label='Validation acc')\n",
    "plt.title('Training and validation accuracy')\n",
    "plt.xlabel('Epochs')\n",
    "plt.ylabel('Accuracy')\n",
    "plt.legend()\n",
    "\n",
    "plt.show()\n",
    "\n",
    "# 이 그래프에서 점선은 훈련 손실과 정확도를 나타낸다. 실선은 검증 손실과 검증 정확도 이다.\n",
    "\n",
    "# 훈련 손실은 에포크마다 감소하고 훈련 정확도는 증가한다는 것을 주목. 경사 하강법 최적화를 사용할 때 볼 수 있는 현상이다. 매 반복마다 최적화 대상의 값을 최소화한다.\n",
    "# 하지만 검증 손실과 검증 정확도에서는 그렇지 못한다. 약 20번째 에포크 이후가 최적점인 것 같다. 이는 과대적합 때문. 이전에 본적 없는 데이터보다 훈련 데이터에서 더 잘 동작한다. 이 지점부터는 모델이 과도하게 최적화되어 테스트 데이터에서 일반화되기 어려운 훈련 데이터의 특정 표현을 학습한다.\n",
    "\n",
    "# 여기에서는 과대적합을 막기 위해 단순이 20번째 에포크 근처에서 훈련을 멈출 수 있다. 나중에는 콜백을 사용하여 자동으로 이렇게 하는 방법을 배워보자"
   ]
  }
 ],
 "metadata": {
  "kernelspec": {
   "display_name": "dsfs",
   "language": "python",
   "name": "dsfs"
  },
  "language_info": {
   "codemirror_mode": {
    "name": "ipython",
    "version": 3
   },
   "file_extension": ".py",
   "mimetype": "text/x-python",
   "name": "python",
   "nbconvert_exporter": "python",
   "pygments_lexer": "ipython3",
   "version": "3.6.13"
  }
 },
 "nbformat": 4,
 "nbformat_minor": 5
}
