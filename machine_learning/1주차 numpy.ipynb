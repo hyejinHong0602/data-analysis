{
 "cells": [
  {
   "cell_type": "code",
   "execution_count": 5,
   "metadata": {},
   "outputs": [
    {
     "name": "stdout",
     "output_type": "stream",
     "text": [
      "a\n"
     ]
    }
   ],
   "source": [
    "import numpy\n",
    "import pandas\n",
    "import matplotlib.pyplot\n",
    "import seaborn\n",
    "from sklearn.model_selection import train_test_split\n",
    "print('a')"
   ]
  },
  {
   "cell_type": "code",
   "execution_count": 14,
   "metadata": {},
   "outputs": [
    {
     "name": "stdout",
     "output_type": "stream",
     "text": [
      "array1 type: <class 'numpy.ndarray'>\n",
      "array1 array 형태: (3,)\n",
      "array3 shape:  (1, 3)\n",
      "array1: 1차원, array3: 2차원\n"
     ]
    }
   ],
   "source": [
    "import numpy as np\n",
    "array1=np.array([1,2,3])\n",
    "print('array1 type:', type(array1))\n",
    "print('array1 array 형태:',array1.shape)\n",
    "\n",
    "array3 = np.array([[1,2,3]])\n",
    "print('array3 shape: ', array3.shape)\n",
    "\n",
    "print('array1: {:0}차원, array3: {:1}차원'.format(array1.ndim, array3.ndim))"
   ]
  },
  {
   "cell_type": "code",
   "execution_count": 4,
   "metadata": {},
   "outputs": [
    {
     "name": "stdout",
     "output_type": "stream",
     "text": [
      "[1 2 3] int32\n",
      "[1. 2. 3.] float64\n"
     ]
    }
   ],
   "source": [
    "import numpy as np\n",
    "\n",
    "array_int=np.array([1,2,3])\n",
    "print(array_int,array_int.dtype)\n",
    "array_float=array_int.astype('float64')\n",
    "print(array_float,array_float.dtype)"
   ]
  },
  {
   "cell_type": "code",
   "execution_count": 7,
   "metadata": {},
   "outputs": [
    {
     "name": "stdout",
     "output_type": "stream",
     "text": [
      "<class 'list'>\n",
      "<class 'numpy.ndarray'>\n",
      "[1 2 3] int32\n",
      "[1. 2. 3.] float64\n"
     ]
    }
   ],
   "source": [
    "import numpy as np\n",
    "list1=[1,2,3]\n",
    "print(type(list1))\n",
    "array1=np.array(list1)\n",
    "print(type(array1))\n",
    "print(array1,array1.dtype)\n",
    "\n",
    "array_float=array1.astype('float64')\n",
    "print(array_float, array_float.dtype)"
   ]
  },
  {
   "cell_type": "code",
   "execution_count": 18,
   "metadata": {},
   "outputs": [
    {
     "name": "stdout",
     "output_type": "stream",
     "text": [
      "[0 1 2 3 4 5 6 7 8 9]\n",
      "[[0 0]\n",
      " [0 0]\n",
      " [0 0]]\n",
      "[[1. 1.]\n",
      " [1. 1.]\n",
      " [1. 1.]]\n",
      "float64\n",
      "[0 1 2 3 4 5 6 7]\n",
      "[[0 1 2 3]\n",
      " [4 5 6 7]]\n",
      "[[0 1]\n",
      " [2 3]\n",
      " [4 5]\n",
      " [6 7]]\n"
     ]
    }
   ],
   "source": [
    "import numpy\n",
    "sequence_array=np.arange(10)\n",
    "print(sequence_array)\n",
    "\n",
    "zero_array=np.zeros((3,2),dtype='int32')\n",
    "print(zero_array)\n",
    "\n",
    "one_array=np.ones((3,2))\n",
    "print(one_array)\n",
    "print(one_array.dtype)\n",
    "\n",
    "array1=np.arange(8)\n",
    "print(array1)\n",
    "\n",
    "array2=array1.reshape(2,4)\n",
    "print(array2)\n",
    "\n",
    "array3=array1.reshape(4,-1)\n",
    "print(array3)"
   ]
  },
  {
   "cell_type": "code",
   "execution_count": 23,
   "metadata": {},
   "outputs": [
    {
     "name": "stdout",
     "output_type": "stream",
     "text": [
      "[1 2 3 4 5 6 7 8 9]\n",
      "[[1 2 3]\n",
      " [4 5 6]\n",
      " [7 8 9]]\n",
      "[3, 6]\n"
     ]
    }
   ],
   "source": [
    "array1d=np.arange(start=1,stop=10)\n",
    "print(array1d)\n",
    "\n",
    "array2d= array1d.reshape(3,3)\n",
    "print(array2d)\n",
    "\n",
    "array3=array2d[[0,1],2]\n",
    "print(array3.tolist())"
   ]
  }
 ],
 "metadata": {
  "kernelspec": {
   "display_name": "Python 3",
   "language": "python",
   "name": "python3"
  },
  "language_info": {
   "codemirror_mode": {
    "name": "ipython",
    "version": 3
   },
   "file_extension": ".py",
   "mimetype": "text/x-python",
   "name": "python",
   "nbconvert_exporter": "python",
   "pygments_lexer": "ipython3",
   "version": "3.8.5"
  }
 },
 "nbformat": 4,
 "nbformat_minor": 4
}
