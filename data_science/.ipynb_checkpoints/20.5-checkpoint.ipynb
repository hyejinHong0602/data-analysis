{
 "cells": [
  {
   "cell_type": "code",
   "execution_count": 1,
   "id": "3de50ef7",
   "metadata": {},
   "outputs": [
    {
     "name": "stdout",
     "output_type": "stream",
     "text": [
      "Requirement already satisfied: pillow in c:\\users\\hhz20\\anaconda3\\envs\\tensorflow\\lib\\site-packages (8.2.0)\n"
     ]
    }
   ],
   "source": [
    "!pip install pillow"
   ]
  },
  {
   "cell_type": "code",
   "execution_count": 2,
   "id": "59fd853a",
   "metadata": {},
   "outputs": [],
   "source": [
    "image_path=r\"picture.jpg\"\n",
    "import matplotlib.image as mpimg\n",
    "img=mpimg.imread(image_path) / 256"
   ]
  },
  {
   "cell_type": "code",
   "execution_count": 3,
   "id": "20f136c8",
   "metadata": {},
   "outputs": [],
   "source": [
    "top_row=img[0]\n",
    "top_left_pixel=top_row[0]\n",
    "red, green, blue = top_left_pixel"
   ]
  },
  {
   "cell_type": "code",
   "execution_count": 4,
   "id": "bd6bc550",
   "metadata": {},
   "outputs": [],
   "source": [
    "pixels=[pixel.tolist() for row in img for pixel in row]"
   ]
  },
  {
   "cell_type": "code",
   "execution_count": 5,
   "id": "e6539233",
   "metadata": {},
   "outputs": [
    {
     "ename": "NameError",
     "evalue": "name 'Vector' is not defined",
     "output_type": "error",
     "traceback": [
      "\u001b[1;31m---------------------------------------------------------------------------\u001b[0m",
      "\u001b[1;31mNameError\u001b[0m                                 Traceback (most recent call last)",
      "\u001b[1;32m<ipython-input-5-3274811cfa50>\u001b[0m in \u001b[0;36m<module>\u001b[1;34m\u001b[0m\n\u001b[1;32m----> 1\u001b[1;33m \u001b[1;32mdef\u001b[0m \u001b[0mrecolor\u001b[0m\u001b[1;33m(\u001b[0m\u001b[0mpixel\u001b[0m\u001b[1;33m:\u001b[0m \u001b[0mVector\u001b[0m\u001b[1;33m)\u001b[0m\u001b[1;33m->\u001b[0m \u001b[0mVector\u001b[0m\u001b[1;33m:\u001b[0m\u001b[1;33m\u001b[0m\u001b[1;33m\u001b[0m\u001b[0m\n\u001b[0m\u001b[0;32m      2\u001b[0m     \u001b[0mcluster\u001b[0m \u001b[1;33m=\u001b[0m \u001b[0mclusterer\u001b[0m\u001b[1;33m.\u001b[0m\u001b[0mclassify\u001b[0m\u001b[1;33m(\u001b[0m\u001b[0mpixel\u001b[0m\u001b[1;33m)\u001b[0m\u001b[1;33m\u001b[0m\u001b[1;33m\u001b[0m\u001b[0m\n\u001b[0;32m      3\u001b[0m     \u001b[1;32mreturn\u001b[0m \u001b[0mclusterer\u001b[0m\u001b[1;33m.\u001b[0m\u001b[0mmeans\u001b[0m\u001b[1;33m[\u001b[0m\u001b[0mcluster\u001b[0m\u001b[1;33m]\u001b[0m\u001b[1;33m\u001b[0m\u001b[1;33m\u001b[0m\u001b[0m\n\u001b[0;32m      4\u001b[0m new_img=[[recolor(pixel) for pixel in row]\n\u001b[0;32m      5\u001b[0m         for row in img]\n",
      "\u001b[1;31mNameError\u001b[0m: name 'Vector' is not defined"
     ]
    }
   ],
   "source": [
    "def recolor(pixel: Vector)-> Vector:\n",
    "    cluster = clusterer.classify(pixel)\n",
    "    return clusterer.means[cluster]\n",
    "new_img=[[recolor(pixel) for pixel in row]\n",
    "        for row in img]"
   ]
  },
  {
   "cell_type": "code",
   "execution_count": null,
   "id": "77c09efc",
   "metadata": {},
   "outputs": [],
   "source": [
    "plt.imshow(new_img)\n",
    "plt.axis('off')\n",
    "plt.show()"
   ]
  }
 ],
 "metadata": {
  "kernelspec": {
   "display_name": "tensorflow",
   "language": "python",
   "name": "tensorflow"
  },
  "language_info": {
   "codemirror_mode": {
    "name": "ipython",
    "version": 3
   },
   "file_extension": ".py",
   "mimetype": "text/x-python",
   "name": "python",
   "nbconvert_exporter": "python",
   "pygments_lexer": "ipython3",
   "version": "3.6.13"
  }
 },
 "nbformat": 4,
 "nbformat_minor": 5
}
