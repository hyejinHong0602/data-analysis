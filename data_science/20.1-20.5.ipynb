{
 "cells": [
  {
   "cell_type": "code",
   "execution_count": 8,
   "id": "asian-delivery",
   "metadata": {},
   "outputs": [],
   "source": [
    "from scratch.linear_algebra import Vector\n",
    "\n",
    "def num_differences(v1:Vector, v2:Vector)-> int:\n",
    "    assert len(v1)==len(v2)\n",
    "    return len([x1 for x1, x2 in zip(v1, v2) if x1!=x2])\n",
    "\n",
    "assert num_differences([1,2,3], [2,1,3])==2\n",
    "assert num_differences([1,2], [1,2])==0"
   ]
  },
  {
   "cell_type": "code",
   "execution_count": 9,
   "id": "amino-radio",
   "metadata": {},
   "outputs": [],
   "source": [
    "from typing import List\n",
    "from scratch.linear_algebra import vector_mean\n",
    "\n",
    "def cluster_means(k:int,\n",
    "                 inputs:List[Vector],\n",
    "                 assignments:List[int]) -> List[Vector]:\n",
    "    clusters = [[] for i in range(k)]\n",
    "    for input, assignment in zip(inputs, assignments):\n",
    "        clusters[assignment].append(input)\n",
    "        \n",
    "    return [vector_mean(cluster) if cluster else random.choice(inputs)\n",
    "           for cluster in clusters]"
   ]
  },
  {
   "cell_type": "code",
   "execution_count": 10,
   "id": "motivated-majority",
   "metadata": {},
   "outputs": [],
   "source": [
    "import itertools\n",
    "import random\n",
    "import tqdm\n",
    "from scratch.linear_algebra import squared_distance\n",
    "\n",
    "class KMeans:\n",
    "    def __init__(self, k:int) -> None:\n",
    "        self.k=k\n",
    "        self.means=None\n",
    "        \n",
    "    def classify(self, input:Vector) -> int:\n",
    "        return min(range(self.k),\n",
    "                   key=lambda i:squared_distance(input, self.means[i]))\n",
    "\n",
    "    def train(self, inputs: List[Vector]) -> None:\n",
    "        assignments=[random.randrange(self.k) for _ in inputs]\n",
    "    \n",
    "        with tqdm.tqdm(itertools.count()) as t:\n",
    "            for _ in t:\n",
    "                self.means=cluster_means(self.k, inputs, assignments)\n",
    "                new_assignments=[self.classify(input) for input in inputs]\n",
    "            \n",
    "                num_changed=num_differences(assignments, new_assignments)\n",
    "                if num_changed==0:\n",
    "                    return\n",
    "            \n",
    "                assignmens=new_assignments\n",
    "                self.means=cluster_means(self.k,inputs,assignments)\n",
    "                t.set_description(f\"changed: {num_changed} / {len(inputs)}\")\n",
    "            \n",
    "                "
   ]
  },
  {
   "cell_type": "code",
   "execution_count": 11,
   "id": "following-hungary",
   "metadata": {},
   "outputs": [
    {
     "ename": "NameError",
     "evalue": "name 'inputs' is not defined",
     "output_type": "error",
     "traceback": [
      "\u001b[1;31m---------------------------------------------------------------------------\u001b[0m",
      "\u001b[1;31mNameError\u001b[0m                                 Traceback (most recent call last)",
      "\u001b[1;32m<ipython-input-11-ac93b5dedfde>\u001b[0m in \u001b[0;36m<module>\u001b[1;34m\u001b[0m\n\u001b[0;32m      1\u001b[0m \u001b[0mrandom\u001b[0m\u001b[1;33m.\u001b[0m\u001b[0mseed\u001b[0m\u001b[1;33m(\u001b[0m\u001b[1;36m12\u001b[0m\u001b[1;33m)\u001b[0m\u001b[1;33m\u001b[0m\u001b[1;33m\u001b[0m\u001b[0m\n\u001b[0;32m      2\u001b[0m \u001b[0mclusterer\u001b[0m\u001b[1;33m=\u001b[0m\u001b[0mKMeans\u001b[0m\u001b[1;33m(\u001b[0m\u001b[0mk\u001b[0m\u001b[1;33m=\u001b[0m\u001b[1;36m3\u001b[0m\u001b[1;33m)\u001b[0m\u001b[1;33m\u001b[0m\u001b[1;33m\u001b[0m\u001b[0m\n\u001b[1;32m----> 3\u001b[1;33m \u001b[0mclusterer\u001b[0m\u001b[1;33m.\u001b[0m\u001b[0mtrain\u001b[0m\u001b[1;33m(\u001b[0m\u001b[0minputs\u001b[0m\u001b[1;33m)\u001b[0m\u001b[1;33m\u001b[0m\u001b[1;33m\u001b[0m\u001b[0m\n\u001b[0m\u001b[0;32m      4\u001b[0m \u001b[0mmeans\u001b[0m\u001b[1;33m=\u001b[0m\u001b[0msorted\u001b[0m\u001b[1;33m(\u001b[0m\u001b[0mclusterer\u001b[0m\u001b[1;33m.\u001b[0m\u001b[0mmeans\u001b[0m\u001b[1;33m)\u001b[0m\u001b[1;33m\u001b[0m\u001b[1;33m\u001b[0m\u001b[0m\n\u001b[0;32m      5\u001b[0m \u001b[1;33m\u001b[0m\u001b[0m\n",
      "\u001b[1;31mNameError\u001b[0m: name 'inputs' is not defined"
     ]
    }
   ],
   "source": [
    "random.seed(12)\n",
    "clusterer=KMeans(k=3)\n",
    "clusterer.train(inputs)\n",
    "means=sorted(clusterer.means)\n",
    "\n",
    "assert len(means)==3\n",
    "assert squared_distance(means[0], [-44, 5]) < 1\n",
    "assert squared_distance(means[1], [-16, -10]) < 1\n",
    "assert squared_distance(means[2], [18, 20]) < 1"
   ]
  },
  {
   "cell_type": "code",
   "execution_count": null,
   "id": "appropriate-argentina",
   "metadata": {},
   "outputs": [],
   "source": []
  },
  {
   "cell_type": "code",
   "execution_count": 12,
   "id": "lyric-paintball",
   "metadata": {
    "scrolled": true
   },
   "outputs": [
    {
     "name": "stdout",
     "output_type": "stream",
     "text": [
      "0\n"
     ]
    },
    {
     "ename": "NameError",
     "evalue": "name 'x1' is not defined",
     "output_type": "error",
     "traceback": [
      "\u001b[1;31m---------------------------------------------------------------------------\u001b[0m",
      "\u001b[1;31mNameError\u001b[0m                                 Traceback (most recent call last)",
      "\u001b[1;32m<ipython-input-12-a693d867ffd8>\u001b[0m in \u001b[0;36m<module>\u001b[1;34m\u001b[0m\n\u001b[0;32m      3\u001b[0m \u001b[1;33m\u001b[0m\u001b[0m\n\u001b[0;32m      4\u001b[0m \u001b[0mprint\u001b[0m\u001b[1;33m(\u001b[0m\u001b[0mlen\u001b[0m\u001b[1;33m(\u001b[0m\u001b[1;33m[\u001b[0m\u001b[0mx1\u001b[0m \u001b[1;32mfor\u001b[0m \u001b[0mx1\u001b[0m\u001b[1;33m,\u001b[0m \u001b[0mx2\u001b[0m \u001b[1;32min\u001b[0m \u001b[0mzip\u001b[0m\u001b[1;33m(\u001b[0m\u001b[0mv1\u001b[0m\u001b[1;33m,\u001b[0m\u001b[0mv2\u001b[0m\u001b[1;33m)\u001b[0m \u001b[1;32mif\u001b[0m \u001b[0mx1\u001b[0m\u001b[1;33m!=\u001b[0m\u001b[0mx2\u001b[0m\u001b[1;33m]\u001b[0m\u001b[1;33m)\u001b[0m\u001b[1;33m)\u001b[0m\u001b[1;33m\u001b[0m\u001b[1;33m\u001b[0m\u001b[0m\n\u001b[1;32m----> 5\u001b[1;33m \u001b[0mprint\u001b[0m\u001b[1;33m(\u001b[0m\u001b[0mx1\u001b[0m\u001b[1;33m,\u001b[0m\u001b[0mx2\u001b[0m\u001b[1;33m)\u001b[0m\u001b[1;33m\u001b[0m\u001b[1;33m\u001b[0m\u001b[0m\n\u001b[0m",
      "\u001b[1;31mNameError\u001b[0m: name 'x1' is not defined"
     ]
    }
   ],
   "source": [
    "v1=[1,2]\n",
    "v2=[1,2]\n",
    "\n",
    "print(len([x1 for x1, x2 in zip(v1,v2) if x1!=x2]))\n",
    "print(x1,x2)"
   ]
  },
  {
   "cell_type": "code",
   "execution_count": 13,
   "id": "parental-crazy",
   "metadata": {},
   "outputs": [
    {
     "name": "stdout",
     "output_type": "stream",
     "text": [
      "3\n"
     ]
    },
    {
     "ename": "NameError",
     "evalue": "name 'x1' is not defined",
     "output_type": "error",
     "traceback": [
      "\u001b[1;31m---------------------------------------------------------------------------\u001b[0m",
      "\u001b[1;31mNameError\u001b[0m                                 Traceback (most recent call last)",
      "\u001b[1;32m<ipython-input-13-ac10040cc543>\u001b[0m in \u001b[0;36m<module>\u001b[1;34m\u001b[0m\n\u001b[0;32m      3\u001b[0m \u001b[1;33m\u001b[0m\u001b[0m\n\u001b[0;32m      4\u001b[0m \u001b[0mprint\u001b[0m\u001b[1;33m(\u001b[0m\u001b[0mlen\u001b[0m\u001b[1;33m(\u001b[0m\u001b[1;33m[\u001b[0m\u001b[0mx1\u001b[0m \u001b[1;32mfor\u001b[0m \u001b[0mx1\u001b[0m\u001b[1;33m,\u001b[0m \u001b[0mx2\u001b[0m \u001b[1;32min\u001b[0m \u001b[0mzip\u001b[0m\u001b[1;33m(\u001b[0m\u001b[0mv1\u001b[0m\u001b[1;33m,\u001b[0m\u001b[0mv2\u001b[0m\u001b[1;33m)\u001b[0m \u001b[1;32mif\u001b[0m \u001b[0mx1\u001b[0m\u001b[1;33m!=\u001b[0m\u001b[0mx2\u001b[0m\u001b[1;33m]\u001b[0m\u001b[1;33m)\u001b[0m\u001b[1;33m)\u001b[0m\u001b[1;33m\u001b[0m\u001b[1;33m\u001b[0m\u001b[0m\n\u001b[1;32m----> 5\u001b[1;33m \u001b[0mprint\u001b[0m\u001b[1;33m(\u001b[0m\u001b[0mx1\u001b[0m\u001b[1;33m,\u001b[0m\u001b[0mx2\u001b[0m\u001b[1;33m)\u001b[0m\u001b[1;33m\u001b[0m\u001b[1;33m\u001b[0m\u001b[0m\n\u001b[0m",
      "\u001b[1;31mNameError\u001b[0m: name 'x1' is not defined"
     ]
    }
   ],
   "source": [
    "v1=[1,2,8]\n",
    "v2=[2,1,3]\n",
    "\n",
    "print(len([x1 for x1, x2 in zip(v1,v2) if x1!=x2]))\n",
    "print(x1,x2)"
   ]
  },
  {
   "cell_type": "code",
   "execution_count": 14,
   "id": "circular-prize",
   "metadata": {},
   "outputs": [
    {
     "name": "stdout",
     "output_type": "stream",
     "text": [
      "[[], [], []]\n"
     ]
    },
    {
     "ename": "NameError",
     "evalue": "name 'inputs' is not defined",
     "output_type": "error",
     "traceback": [
      "\u001b[1;31m---------------------------------------------------------------------------\u001b[0m",
      "\u001b[1;31mNameError\u001b[0m                                 Traceback (most recent call last)",
      "\u001b[1;32m<ipython-input-14-6ea9e8d9c6e5>\u001b[0m in \u001b[0;36m<module>\u001b[1;34m\u001b[0m\n\u001b[0;32m      2\u001b[0m \u001b[0mprint\u001b[0m\u001b[1;33m(\u001b[0m\u001b[1;33m[\u001b[0m\u001b[1;33m[\u001b[0m\u001b[1;33m]\u001b[0m \u001b[1;32mfor\u001b[0m \u001b[0mi\u001b[0m \u001b[1;32min\u001b[0m \u001b[0mrange\u001b[0m\u001b[1;33m(\u001b[0m\u001b[0mk\u001b[0m\u001b[1;33m)\u001b[0m\u001b[1;33m]\u001b[0m\u001b[1;33m)\u001b[0m\u001b[1;33m\u001b[0m\u001b[1;33m\u001b[0m\u001b[0m\n\u001b[0;32m      3\u001b[0m \u001b[1;33m\u001b[0m\u001b[0m\n\u001b[1;32m----> 4\u001b[1;33m \u001b[1;32mfor\u001b[0m \u001b[0minput\u001b[0m\u001b[1;33m,\u001b[0m \u001b[0massignment\u001b[0m \u001b[1;32min\u001b[0m \u001b[0mzip\u001b[0m\u001b[1;33m(\u001b[0m\u001b[0minputs\u001b[0m\u001b[1;33m,\u001b[0m \u001b[0massignments\u001b[0m\u001b[1;33m)\u001b[0m\u001b[1;33m:\u001b[0m\u001b[1;33m\u001b[0m\u001b[1;33m\u001b[0m\u001b[0m\n\u001b[0m\u001b[0;32m      5\u001b[0m         \u001b[0mclusters\u001b[0m\u001b[1;33m[\u001b[0m\u001b[0massignment\u001b[0m\u001b[1;33m]\u001b[0m\u001b[1;33m.\u001b[0m\u001b[0mappend\u001b[0m\u001b[1;33m(\u001b[0m\u001b[0minput\u001b[0m\u001b[1;33m)\u001b[0m\u001b[1;33m\u001b[0m\u001b[1;33m\u001b[0m\u001b[0m\n",
      "\u001b[1;31mNameError\u001b[0m: name 'inputs' is not defined"
     ]
    }
   ],
   "source": [
    "k=3\n",
    "print([[] for i in range(k)])\n",
    "\n",
    "for input, assignment in zip(inputs, assignments):\n",
    "        clusters[assignment].append(input)"
   ]
  },
  {
   "cell_type": "code",
   "execution_count": 15,
   "id": "charming-celebration",
   "metadata": {},
   "outputs": [],
   "source": [
    "from typing import List\n",
    "\n",
    "Vector = List[float]\n",
    "\n",
    "height_weight_age = [70,  # inches,\n",
    "                     170, # pounds,\n",
    "                     40 ] # years\n",
    "\n",
    "grades = [95,   # exam1\n",
    "          80,   # exam2\n",
    "          75,   # exam3\n",
    "          62 ]  # exam4\n",
    "\n",
    "def add(v: Vector, w: Vector) -> Vector:\n",
    "    \"\"\"Adds corresponding elements\"\"\"\n",
    "    assert len(v) == len(w), \"vectors must be the same length\"\n",
    "\n",
    "    return [v_i + w_i for v_i, w_i in zip(v, w)]\n",
    "\n",
    "assert add([1, 2, 3], [4, 5, 6]) == [5, 7, 9]\n",
    "\n",
    "def subtract(v: Vector, w: Vector) -> Vector:\n",
    "    \"\"\"Subtracts corresponding elements\"\"\"\n",
    "    assert len(v) == len(w), \"vectors must be the same length\"\n",
    "\n",
    "    return [v_i - w_i for v_i, w_i in zip(v, w)]\n",
    "\n",
    "assert subtract([5, 7, 9], [4, 5, 6]) == [1, 2, 3]\n",
    "\n",
    "def vector_sum(vectors: List[Vector]) -> Vector:\n",
    "    \"\"\"Sums all corresponding elements\"\"\"\n",
    "    # Check that vectors is not empty\n",
    "    assert vectors, \"no vectors provided!\"\n",
    "\n",
    "    # Check the vectors are all the same size\n",
    "    num_elements = len(vectors[0])\n",
    "    assert all(len(v) == num_elements for v in vectors), \"different sizes!\"\n",
    "\n",
    "    # the i-th element of the result is the sum of every vector[i]\n",
    "    return [sum(vector[i] for vector in vectors)\n",
    "            for i in range(num_elements)]\n",
    "\n",
    "assert vector_sum([[1, 2], [3, 4], [5, 6], [7, 8]]) == [16, 20]\n",
    "\n",
    "def scalar_multiply(c: float, v: Vector) -> Vector:\n",
    "    \"\"\"Multiplies every element by c\"\"\"\n",
    "    return [c * v_i for v_i in v]\n",
    "\n",
    "assert scalar_multiply(2, [1, 2, 3]) == [2, 4, 6]\n",
    "\n",
    "def vector_mean(vectors: List[Vector]) -> Vector:\n",
    "    \"\"\"Computes the element-wise average\"\"\"\n",
    "    n = len(vectors)\n",
    "    return scalar_multiply(1/n, vector_sum(vectors))\n",
    "\n",
    "assert vector_mean([[1, 2], [3, 4], [5, 6]]) == [3, 4]\n",
    "\n",
    "def dot(v: Vector, w: Vector) -> float:\n",
    "    \"\"\"Computes v_1 * w_1 + ... + v_n * w_n\"\"\"\n",
    "    assert len(v) == len(w), \"vectors must be same length\"\n",
    "\n",
    "    return sum(v_i * w_i for v_i, w_i in zip(v, w))\n",
    "\n",
    "assert dot([1, 2, 3], [4, 5, 6]) == 32  # 1 * 4 + 2 * 5 + 3 * 6\n",
    "\n",
    "def sum_of_squares(v: Vector) -> float:\n",
    "    \"\"\"Returns v_1 * v_1 + ... + v_n * v_n\"\"\"\n",
    "    return dot(v, v)\n",
    "\n",
    "assert sum_of_squares([1, 2, 3]) == 14  # 1 * 1 + 2 * 2 + 3 * 3\n",
    "\n",
    "import math\n",
    "\n",
    "def magnitude(v: Vector) -> float:\n",
    "    \"\"\"Returns the magnitude (or length) of v\"\"\"\n",
    "    return math.sqrt(sum_of_squares(v))   # math.sqrt is square root function\n",
    "\n",
    "assert magnitude([3, 4]) == 5\n",
    "\n",
    "def squared_distance(v: Vector, w: Vector) -> float:\n",
    "    \"\"\"Computes (v_1 - w_1) ** 2 + ... + (v_n - w_n) ** 2\"\"\"\n",
    "    return sum_of_squares(subtract(v, w))\n",
    "\n",
    "def distance(v: Vector, w: Vector) -> float:\n",
    "    \"\"\"Computes the distance between v and w\"\"\"\n",
    "    return math.sqrt(squared_distance(v, w))\n",
    "\n",
    "\n",
    "def distance(v: Vector, w: Vector) -> float:  # type: ignore\n",
    "    return magnitude(subtract(v, w))\n",
    "\n",
    "# Another type alias\n",
    "Matrix = List[List[float]]\n",
    "\n",
    "A = [[1, 2, 3],  # A has 2 rows and 3 columns\n",
    "     [4, 5, 6]]\n",
    "\n",
    "B = [[1, 2],     # B has 3 rows and 2 columns\n",
    "     [3, 4],\n",
    "     [5, 6]]\n",
    "\n",
    "from typing import Tuple\n",
    "\n",
    "def shape(A: Matrix) -> Tuple[int, int]:\n",
    "    \"\"\"Returns (# of rows of A, # of columns of A)\"\"\"\n",
    "    num_rows = len(A)\n",
    "    num_cols = len(A[0]) if A else 0   # number of elements in first row\n",
    "    return num_rows, num_cols\n",
    "\n",
    "assert shape([[1, 2, 3], [4, 5, 6]]) == (2, 3)  # 2 rows, 3 columns\n",
    "\n",
    "def get_row(A: Matrix, i: int) -> Vector:\n",
    "    \"\"\"Returns the i-th row of A (as a Vector)\"\"\"\n",
    "    return A[i]             # A[i] is already the ith row\n",
    "\n",
    "def get_column(A: Matrix, j: int) -> Vector:\n",
    "    \"\"\"Returns the j-th column of A (as a Vector)\"\"\"\n",
    "    return [A_i[j]          # jth element of row A_i\n",
    "            for A_i in A]   # for each row A_i\n",
    "\n",
    "from typing import Callable\n",
    "\n",
    "def make_matrix(num_rows: int,\n",
    "                num_cols: int,\n",
    "                entry_fn: Callable[[int, int], float]) -> Matrix:\n",
    "    \"\"\"\n",
    "    Returns a num_rows x num_cols matrix\n",
    "    whose (i,j)-th entry is entry_fn(i, j)\n",
    "    \"\"\"\n",
    "    return [[entry_fn(i, j)             # given i, create a list\n",
    "             for j in range(num_cols)]  #   [entry_fn(i, 0), ... ]\n",
    "            for i in range(num_rows)]   # create one list for each i\n",
    "\n",
    "def identity_matrix(n: int) -> Matrix:\n",
    "    \"\"\"Returns the n x n identity matrix\"\"\"\n",
    "    return make_matrix(n, n, lambda i, j: 1 if i == j else 0)\n",
    "\n",
    "assert identity_matrix(5) == [[1, 0, 0, 0, 0],\n",
    "                              [0, 1, 0, 0, 0],\n",
    "                              [0, 0, 1, 0, 0],\n",
    "                              [0, 0, 0, 1, 0],\n",
    "                              [0, 0, 0, 0, 1]]\n",
    "\n",
    "data = [[70, 170, 40],\n",
    "        [65, 120, 26],\n",
    "        [77, 250, 19],\n",
    "        # ....\n",
    "       ]\n",
    "\n",
    "friendships = [(0, 1), (0, 2), (1, 2), (1, 3), (2, 3), (3, 4),\n",
    "               (4, 5), (5, 6), (5, 7), (6, 8), (7, 8), (8, 9)]\n",
    "\n",
    "#            user 0  1  2  3  4  5  6  7  8  9\n",
    "#\n",
    "friend_matrix = [[0, 1, 1, 0, 0, 0, 0, 0, 0, 0],  # user 0\n",
    "                 [1, 0, 1, 1, 0, 0, 0, 0, 0, 0],  # user 1\n",
    "                 [1, 1, 0, 1, 0, 0, 0, 0, 0, 0],  # user 2\n",
    "                 [0, 1, 1, 0, 1, 0, 0, 0, 0, 0],  # user 3\n",
    "                 [0, 0, 0, 1, 0, 1, 0, 0, 0, 0],  # user 4\n",
    "                 [0, 0, 0, 0, 1, 0, 1, 1, 0, 0],  # user 5\n",
    "                 [0, 0, 0, 0, 0, 1, 0, 0, 1, 0],  # user 6\n",
    "                 [0, 0, 0, 0, 0, 1, 0, 0, 1, 0],  # user 7\n",
    "                 [0, 0, 0, 0, 0, 0, 1, 1, 0, 1],  # user 8\n",
    "                 [0, 0, 0, 0, 0, 0, 0, 0, 1, 0]]  # user 9\n",
    "\n",
    "assert friend_matrix[0][2] == 1, \"0 and 2 are friends\"\n",
    "assert friend_matrix[0][8] == 0, \"0 and 8 are not friends\"\n",
    "\n",
    "# only need to look at one row\n",
    "friends_of_five = [i\n",
    "                   for i, is_friend in enumerate(friend_matrix[5])\n",
    "                   if is_friend]\n",
    "\n"
   ]
  },
  {
   "cell_type": "code",
   "execution_count": 3,
   "id": "manufactured-coral",
   "metadata": {},
   "outputs": [
    {
     "name": "stdout",
     "output_type": "stream",
     "text": [
      "Collecting matplotlib\n",
      "  Using cached matplotlib-3.3.4-cp36-cp36m-win_amd64.whl (8.5 MB)\n",
      "Collecting cycler>=0.10\n",
      "  Using cached cycler-0.10.0-py2.py3-none-any.whl (6.5 kB)\n",
      "Requirement already satisfied: pyparsing!=2.0.4,!=2.1.2,!=2.1.6,>=2.0.3 in c:\\users\\hhz20\\anaconda3\\envs\\ds2021\\lib\\site-packages (from matplotlib) (2.4.7)\n",
      "Requirement already satisfied: python-dateutil>=2.1 in c:\\users\\hhz20\\anaconda3\\envs\\ds2021\\lib\\site-packages (from matplotlib) (2.8.1)\n",
      "Requirement already satisfied: pillow>=6.2.0 in c:\\users\\hhz20\\anaconda3\\envs\\ds2021\\lib\\site-packages (from matplotlib) (8.2.0)\n",
      "Requirement already satisfied: numpy>=1.15 in c:\\users\\hhz20\\anaconda3\\envs\\ds2021\\lib\\site-packages (from matplotlib) (1.19.5)\n",
      "Collecting kiwisolver>=1.0.1\n",
      "  Using cached kiwisolver-1.3.1-cp36-cp36m-win_amd64.whl (51 kB)\n",
      "Requirement already satisfied: six in c:\\users\\hhz20\\anaconda3\\envs\\ds2021\\lib\\site-packages (from cycler>=0.10->matplotlib) (1.15.0)\n",
      "Installing collected packages: kiwisolver, cycler, matplotlib\n",
      "Successfully installed cycler-0.10.0 kiwisolver-1.3.1 matplotlib-3.3.4\n"
     ]
    }
   ],
   "source": [
    "!pip install matplotlib"
   ]
  },
  {
   "cell_type": "code",
   "execution_count": 1,
   "id": "solid-health",
   "metadata": {},
   "outputs": [
    {
     "name": "stdout",
     "output_type": "stream",
     "text": [
      "Collecting pillow\n",
      "  Using cached Pillow-8.2.0-cp36-cp36m-win_amd64.whl (2.2 MB)\n",
      "Installing collected packages: pillow\n",
      "Successfully installed pillow-8.2.0\n"
     ]
    }
   ],
   "source": [
    "!pip install pillow\n"
   ]
  },
  {
   "cell_type": "code",
   "execution_count": 21,
   "id": "bibliographic-suite",
   "metadata": {},
   "outputs": [],
   "source": [
    "import matplotlib as plt"
   ]
  },
  {
   "cell_type": "code",
   "execution_count": 16,
   "id": "moving-rwanda",
   "metadata": {},
   "outputs": [],
   "source": [
    "image_path=r\"picture.jpg\"\n",
    "import matplotlib.image as mpimg\n",
    "img=mpimg.imread(image_path) / 256"
   ]
  },
  {
   "cell_type": "code",
   "execution_count": 17,
   "id": "constant-majority",
   "metadata": {},
   "outputs": [],
   "source": [
    "top_row=img[0]\n",
    "top_left_pixel=top_row[0]\n",
    "red, green, blue = top_left_pixel"
   ]
  },
  {
   "cell_type": "code",
   "execution_count": 18,
   "id": "biological-scope",
   "metadata": {},
   "outputs": [],
   "source": [
    "pixels=[pixel.tolist() for row in img for pixel in row]\n"
   ]
  },
  {
   "cell_type": "code",
   "execution_count": 19,
   "id": "practical-meeting",
   "metadata": {},
   "outputs": [
    {
     "ename": "TypeError",
     "evalue": "'NoneType' object is not subscriptable",
     "output_type": "error",
     "traceback": [
      "\u001b[1;31m---------------------------------------------------------------------------\u001b[0m",
      "\u001b[1;31mTypeError\u001b[0m                                 Traceback (most recent call last)",
      "\u001b[1;32m<ipython-input-19-3274811cfa50>\u001b[0m in \u001b[0;36m<module>\u001b[1;34m\u001b[0m\n\u001b[0;32m      3\u001b[0m     \u001b[1;32mreturn\u001b[0m \u001b[0mclusterer\u001b[0m\u001b[1;33m.\u001b[0m\u001b[0mmeans\u001b[0m\u001b[1;33m[\u001b[0m\u001b[0mcluster\u001b[0m\u001b[1;33m]\u001b[0m\u001b[1;33m\u001b[0m\u001b[1;33m\u001b[0m\u001b[0m\n\u001b[0;32m      4\u001b[0m new_img=[[recolor(pixel) for pixel in row]\n\u001b[1;32m----> 5\u001b[1;33m         for row in img]\n\u001b[0m",
      "\u001b[1;32m<ipython-input-19-3274811cfa50>\u001b[0m in \u001b[0;36m<listcomp>\u001b[1;34m(.0)\u001b[0m\n\u001b[0;32m      3\u001b[0m     \u001b[1;32mreturn\u001b[0m \u001b[0mclusterer\u001b[0m\u001b[1;33m.\u001b[0m\u001b[0mmeans\u001b[0m\u001b[1;33m[\u001b[0m\u001b[0mcluster\u001b[0m\u001b[1;33m]\u001b[0m\u001b[1;33m\u001b[0m\u001b[1;33m\u001b[0m\u001b[0m\n\u001b[0;32m      4\u001b[0m new_img=[[recolor(pixel) for pixel in row]\n\u001b[1;32m----> 5\u001b[1;33m         for row in img]\n\u001b[0m",
      "\u001b[1;32m<ipython-input-19-3274811cfa50>\u001b[0m in \u001b[0;36m<listcomp>\u001b[1;34m(.0)\u001b[0m\n\u001b[0;32m      2\u001b[0m     \u001b[0mcluster\u001b[0m \u001b[1;33m=\u001b[0m \u001b[0mclusterer\u001b[0m\u001b[1;33m.\u001b[0m\u001b[0mclassify\u001b[0m\u001b[1;33m(\u001b[0m\u001b[0mpixel\u001b[0m\u001b[1;33m)\u001b[0m\u001b[1;33m\u001b[0m\u001b[1;33m\u001b[0m\u001b[0m\n\u001b[0;32m      3\u001b[0m     \u001b[1;32mreturn\u001b[0m \u001b[0mclusterer\u001b[0m\u001b[1;33m.\u001b[0m\u001b[0mmeans\u001b[0m\u001b[1;33m[\u001b[0m\u001b[0mcluster\u001b[0m\u001b[1;33m]\u001b[0m\u001b[1;33m\u001b[0m\u001b[1;33m\u001b[0m\u001b[0m\n\u001b[1;32m----> 4\u001b[1;33m new_img=[[recolor(pixel) for pixel in row]\n\u001b[0m\u001b[0;32m      5\u001b[0m         for row in img]\n",
      "\u001b[1;32m<ipython-input-19-3274811cfa50>\u001b[0m in \u001b[0;36mrecolor\u001b[1;34m(pixel)\u001b[0m\n\u001b[0;32m      1\u001b[0m \u001b[1;32mdef\u001b[0m \u001b[0mrecolor\u001b[0m\u001b[1;33m(\u001b[0m\u001b[0mpixel\u001b[0m\u001b[1;33m:\u001b[0m \u001b[0mVector\u001b[0m\u001b[1;33m)\u001b[0m\u001b[1;33m->\u001b[0m \u001b[0mVector\u001b[0m\u001b[1;33m:\u001b[0m\u001b[1;33m\u001b[0m\u001b[1;33m\u001b[0m\u001b[0m\n\u001b[1;32m----> 2\u001b[1;33m     \u001b[0mcluster\u001b[0m \u001b[1;33m=\u001b[0m \u001b[0mclusterer\u001b[0m\u001b[1;33m.\u001b[0m\u001b[0mclassify\u001b[0m\u001b[1;33m(\u001b[0m\u001b[0mpixel\u001b[0m\u001b[1;33m)\u001b[0m\u001b[1;33m\u001b[0m\u001b[1;33m\u001b[0m\u001b[0m\n\u001b[0m\u001b[0;32m      3\u001b[0m     \u001b[1;32mreturn\u001b[0m \u001b[0mclusterer\u001b[0m\u001b[1;33m.\u001b[0m\u001b[0mmeans\u001b[0m\u001b[1;33m[\u001b[0m\u001b[0mcluster\u001b[0m\u001b[1;33m]\u001b[0m\u001b[1;33m\u001b[0m\u001b[1;33m\u001b[0m\u001b[0m\n\u001b[0;32m      4\u001b[0m new_img=[[recolor(pixel) for pixel in row]\n\u001b[0;32m      5\u001b[0m         for row in img]\n",
      "\u001b[1;32m<ipython-input-10-ab6876d75233>\u001b[0m in \u001b[0;36mclassify\u001b[1;34m(self, input)\u001b[0m\n\u001b[0;32m     11\u001b[0m     \u001b[1;32mdef\u001b[0m \u001b[0mclassify\u001b[0m\u001b[1;33m(\u001b[0m\u001b[0mself\u001b[0m\u001b[1;33m,\u001b[0m \u001b[0minput\u001b[0m\u001b[1;33m:\u001b[0m\u001b[0mVector\u001b[0m\u001b[1;33m)\u001b[0m \u001b[1;33m->\u001b[0m \u001b[0mint\u001b[0m\u001b[1;33m:\u001b[0m\u001b[1;33m\u001b[0m\u001b[1;33m\u001b[0m\u001b[0m\n\u001b[0;32m     12\u001b[0m         return min(range(self.k),\n\u001b[1;32m---> 13\u001b[1;33m                    key=lambda i:squared_distance(input, self.means[i]))\n\u001b[0m\u001b[0;32m     14\u001b[0m \u001b[1;33m\u001b[0m\u001b[0m\n\u001b[0;32m     15\u001b[0m     \u001b[1;32mdef\u001b[0m \u001b[0mtrain\u001b[0m\u001b[1;33m(\u001b[0m\u001b[0mself\u001b[0m\u001b[1;33m,\u001b[0m \u001b[0minputs\u001b[0m\u001b[1;33m:\u001b[0m \u001b[0mList\u001b[0m\u001b[1;33m[\u001b[0m\u001b[0mVector\u001b[0m\u001b[1;33m]\u001b[0m\u001b[1;33m)\u001b[0m \u001b[1;33m->\u001b[0m \u001b[1;32mNone\u001b[0m\u001b[1;33m:\u001b[0m\u001b[1;33m\u001b[0m\u001b[1;33m\u001b[0m\u001b[0m\n",
      "\u001b[1;32m<ipython-input-10-ab6876d75233>\u001b[0m in \u001b[0;36m<lambda>\u001b[1;34m(i)\u001b[0m\n\u001b[0;32m     11\u001b[0m     \u001b[1;32mdef\u001b[0m \u001b[0mclassify\u001b[0m\u001b[1;33m(\u001b[0m\u001b[0mself\u001b[0m\u001b[1;33m,\u001b[0m \u001b[0minput\u001b[0m\u001b[1;33m:\u001b[0m\u001b[0mVector\u001b[0m\u001b[1;33m)\u001b[0m \u001b[1;33m->\u001b[0m \u001b[0mint\u001b[0m\u001b[1;33m:\u001b[0m\u001b[1;33m\u001b[0m\u001b[1;33m\u001b[0m\u001b[0m\n\u001b[0;32m     12\u001b[0m         return min(range(self.k),\n\u001b[1;32m---> 13\u001b[1;33m                    key=lambda i:squared_distance(input, self.means[i]))\n\u001b[0m\u001b[0;32m     14\u001b[0m \u001b[1;33m\u001b[0m\u001b[0m\n\u001b[0;32m     15\u001b[0m     \u001b[1;32mdef\u001b[0m \u001b[0mtrain\u001b[0m\u001b[1;33m(\u001b[0m\u001b[0mself\u001b[0m\u001b[1;33m,\u001b[0m \u001b[0minputs\u001b[0m\u001b[1;33m:\u001b[0m \u001b[0mList\u001b[0m\u001b[1;33m[\u001b[0m\u001b[0mVector\u001b[0m\u001b[1;33m]\u001b[0m\u001b[1;33m)\u001b[0m \u001b[1;33m->\u001b[0m \u001b[1;32mNone\u001b[0m\u001b[1;33m:\u001b[0m\u001b[1;33m\u001b[0m\u001b[1;33m\u001b[0m\u001b[0m\n",
      "\u001b[1;31mTypeError\u001b[0m: 'NoneType' object is not subscriptable"
     ]
    }
   ],
   "source": [
    "def recolor(pixel: Vector)-> Vector:\n",
    "    cluster = clusterer.classify(pixel)\n",
    "    return clusterer.means[cluster]\n",
    "new_img=[[recolor(pixel) for pixel in row]\n",
    "        for row in img]"
   ]
  },
  {
   "cell_type": "code",
   "execution_count": 22,
   "id": "collaborative-advocacy",
   "metadata": {},
   "outputs": [
    {
     "ename": "AttributeError",
     "evalue": "module 'matplotlib' has no attribute 'imshow'",
     "output_type": "error",
     "traceback": [
      "\u001b[1;31m---------------------------------------------------------------------------\u001b[0m",
      "\u001b[1;31mAttributeError\u001b[0m                            Traceback (most recent call last)",
      "\u001b[1;32m<ipython-input-22-9b0c7774a4ee>\u001b[0m in \u001b[0;36m<module>\u001b[1;34m\u001b[0m\n\u001b[1;32m----> 1\u001b[1;33m \u001b[0mplt\u001b[0m\u001b[1;33m.\u001b[0m\u001b[0mimshow\u001b[0m\u001b[1;33m(\u001b[0m\u001b[0mnew_img\u001b[0m\u001b[1;33m)\u001b[0m\u001b[1;33m\u001b[0m\u001b[1;33m\u001b[0m\u001b[0m\n\u001b[0m\u001b[0;32m      2\u001b[0m \u001b[0mplt\u001b[0m\u001b[1;33m.\u001b[0m\u001b[0maxis\u001b[0m\u001b[1;33m(\u001b[0m\u001b[1;34m'off'\u001b[0m\u001b[1;33m)\u001b[0m\u001b[1;33m\u001b[0m\u001b[1;33m\u001b[0m\u001b[0m\n\u001b[0;32m      3\u001b[0m \u001b[0mplt\u001b[0m\u001b[1;33m.\u001b[0m\u001b[0mshow\u001b[0m\u001b[1;33m(\u001b[0m\u001b[1;33m)\u001b[0m\u001b[1;33m\u001b[0m\u001b[1;33m\u001b[0m\u001b[0m\n",
      "\u001b[1;31mAttributeError\u001b[0m: module 'matplotlib' has no attribute 'imshow'"
     ]
    }
   ],
   "source": [
    "plt.imshow(new_img)\n",
    "plt.axis('off')\n",
    "plt.show()"
   ]
  },
  {
   "cell_type": "markdown",
   "id": "champion-hungary",
   "metadata": {},
   "source": [
    "## 20.6-20.7"
   ]
  },
  {
   "cell_type": "code",
   "execution_count": 24,
   "id": "tight-border",
   "metadata": {},
   "outputs": [],
   "source": [
    "from typing import NamedTuple, Union\n",
    "\n",
    "class Leaf(NamedTuple):\n",
    "    value: Vector\n",
    "\n",
    "leaf1=Leaf([10,20])\n",
    "leaf2=Leaf([30,-15])"
   ]
  },
  {
   "cell_type": "code",
   "execution_count": 25,
   "id": "buried-policy",
   "metadata": {},
   "outputs": [],
   "source": [
    "class Merged(NamedTuple):\n",
    "    children:tuple\n",
    "    order:int\n",
    "    \n",
    "merged = Merged((leaf1, leaf2), order=1)\n",
    "Cluster=Union[Leaf, Merged]"
   ]
  },
  {
   "cell_type": "code",
   "execution_count": 29,
   "id": "composite-ottawa",
   "metadata": {},
   "outputs": [],
   "source": [
    "def get_values(cluster : Cluster)->List[Vector]:\n",
    "    if isinstance(cluster, Leaf):\n",
    "        return [cluster.value]\n",
    "    else:\n",
    "        return [value\n",
    "               for child in cluster.children\n",
    "               for value in get_values(child)]\n",
    "\n",
    "assert get_values(merged)==[[10,20],[30,-15]]"
   ]
  },
  {
   "cell_type": "code",
   "execution_count": 31,
   "id": "middle-penetration",
   "metadata": {},
   "outputs": [],
   "source": [
    "from typing import Callable\n",
    "from scratch.linear_algebra import distance\n",
    "\n",
    "def cluster_distance(cluster1: Cluster,\n",
    "                    cluster2: Cluster,\n",
    "                    distance_agg:Callable = min)->float:\n",
    "    return distance_agg([distance(v1,v2)\n",
    "                        for v1 in get_values(cluster1)\n",
    "                        for v2 in get_values(cluster2)])"
   ]
  },
  {
   "cell_type": "code",
   "execution_count": 33,
   "id": "entitled-sleep",
   "metadata": {},
   "outputs": [],
   "source": [
    "def get_merge_order(cluster: Cluster) -> float:\n",
    "    if isinstance(cluster, Leaf):\n",
    "        return float('inf')\n",
    "    else:\n",
    "        return cluster.order"
   ]
  },
  {
   "cell_type": "code",
   "execution_count": 34,
   "id": "genetic-photograph",
   "metadata": {},
   "outputs": [],
   "source": [
    "from typing import Tuple\n",
    "def get_children (cluster: Cluster):\n",
    "    if isinstance(cluster, Leaf):\n",
    "        raise TypeErrror(\"Leaf has no children\")\n",
    "    else:\n",
    "        return cluster.children"
   ]
  },
  {
   "cell_type": "code",
   "execution_count": 36,
   "id": "creative-search",
   "metadata": {},
   "outputs": [
    {
     "ename": "NameError",
     "evalue": "name 'clusters' is not defined",
     "output_type": "error",
     "traceback": [
      "\u001b[1;31m---------------------------------------------------------------------------\u001b[0m",
      "\u001b[1;31mNameError\u001b[0m                                 Traceback (most recent call last)",
      "\u001b[1;32m<ipython-input-36-fb9e092bca20>\u001b[0m in \u001b[0;36m<module>\u001b[1;34m\u001b[0m\n\u001b[0;32m      6\u001b[0m     \u001b[1;32mreturn\u001b[0m \u001b[0mcluster_distance\u001b[0m\u001b[1;33m(\u001b[0m\u001b[0mpair\u001b[0m\u001b[1;33m[\u001b[0m\u001b[1;36m0\u001b[0m\u001b[1;33m]\u001b[0m\u001b[1;33m,\u001b[0m\u001b[0mpair\u001b[0m\u001b[1;33m[\u001b[0m\u001b[1;36m1\u001b[0m\u001b[1;33m]\u001b[0m\u001b[1;33m,\u001b[0m \u001b[0mdistance_agg\u001b[0m\u001b[1;33m)\u001b[0m\u001b[1;33m\u001b[0m\u001b[1;33m\u001b[0m\u001b[0m\n\u001b[0;32m      7\u001b[0m \u001b[1;33m\u001b[0m\u001b[0m\n\u001b[1;32m----> 8\u001b[1;33m \u001b[1;32mwhile\u001b[0m \u001b[0mlen\u001b[0m\u001b[1;33m(\u001b[0m\u001b[0mclusters\u001b[0m\u001b[1;33m)\u001b[0m\u001b[1;33m>\u001b[0m\u001b[1;36m1\u001b[0m\u001b[1;33m:\u001b[0m\u001b[1;33m\u001b[0m\u001b[1;33m\u001b[0m\u001b[0m\n\u001b[0m\u001b[0;32m      9\u001b[0m     c1,c2=min(((cluster1, cluster2)\n\u001b[0;32m     10\u001b[0m               \u001b[1;32mfor\u001b[0m \u001b[0mi\u001b[0m\u001b[1;33m,\u001b[0m \u001b[0mlcuster1\u001b[0m \u001b[1;32min\u001b[0m \u001b[0menumerate\u001b[0m\u001b[1;33m(\u001b[0m\u001b[0mclusters\u001b[0m\u001b[1;33m)\u001b[0m\u001b[1;33m\u001b[0m\u001b[1;33m\u001b[0m\u001b[0m\n",
      "\u001b[1;31mNameError\u001b[0m: name 'clusters' is not defined"
     ]
    }
   ],
   "source": [
    "def bottom_up_cluster(inputs: List[Vector],\n",
    "                     distance_agg: Callable=min)-> Cluster:\n",
    "    clusters: List[Cluster]=[Leaf(input) for input in inputs]\n",
    "        \n",
    "def pair_distance(pair:Tuple[Cluster,Cluster])->float:\n",
    "    return cluster_distance(pair[0],pair[1], distance_agg)\n",
    "\n",
    "while len(clusters)>1:\n",
    "    c1,c2=min(((cluster1, cluster2)\n",
    "              for i, lcuster1 in enumerate(clusters)\n",
    "              for cluster2 in clusters[:i]),\n",
    "             key=pair_distance)"
   ]
  },
  {
   "cell_type": "code",
   "execution_count": null,
   "id": "automatic-paint",
   "metadata": {},
   "outputs": [],
   "source": []
  },
  {
   "cell_type": "code",
   "execution_count": null,
   "id": "rural-operation",
   "metadata": {},
   "outputs": [],
   "source": []
  },
  {
   "cell_type": "code",
   "execution_count": null,
   "id": "middle-vessel",
   "metadata": {},
   "outputs": [],
   "source": []
  },
  {
   "cell_type": "code",
   "execution_count": null,
   "id": "alpine-westminster",
   "metadata": {},
   "outputs": [],
   "source": []
  },
  {
   "cell_type": "code",
   "execution_count": null,
   "id": "western-concert",
   "metadata": {},
   "outputs": [],
   "source": []
  },
  {
   "cell_type": "code",
   "execution_count": null,
   "id": "hispanic-victim",
   "metadata": {},
   "outputs": [],
   "source": []
  }
 ],
 "metadata": {
  "kernelspec": {
   "display_name": "ds2021",
   "language": "python",
   "name": "ds2021"
  },
  "language_info": {
   "codemirror_mode": {
    "name": "ipython",
    "version": 3
   },
   "file_extension": ".py",
   "mimetype": "text/x-python",
   "name": "python",
   "nbconvert_exporter": "python",
   "pygments_lexer": "ipython3",
   "version": "3.6.13"
  }
 },
 "nbformat": 4,
 "nbformat_minor": 5
}
